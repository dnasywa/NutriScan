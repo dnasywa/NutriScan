{
  "nbformat": 4,
  "nbformat_minor": 0,
  "metadata": {
    "colab": {
      "provenance": [],
      "authorship_tag": "ABX9TyMw29/7COZoS9zesLlS5hdn",
      "include_colab_link": true
    },
    "kernelspec": {
      "name": "python3",
      "display_name": "Python 3"
    },
    "language_info": {
      "name": "python"
    }
  },
  "cells": [
    {
      "cell_type": "markdown",
      "metadata": {
        "id": "view-in-github",
        "colab_type": "text"
      },
      "source": [
        "<a href=\"https://colab.research.google.com/github/dnasywa/NutriScan/blob/main/Machine%20Learning/capstone_RGB_model.ipynb\" target=\"_parent\"><img src=\"https://colab.research.google.com/assets/colab-badge.svg\" alt=\"Open In Colab\"/></a>"
      ]
    },
    {
      "cell_type": "markdown",
      "source": [
        "# Dataset Preparation"
      ],
      "metadata": {
        "id": "OrrJGKWLsXyV"
      }
    },
    {
      "cell_type": "markdown",
      "source": [
        "## Overview"
      ],
      "metadata": {
        "id": "FMtUzHoAseeH"
      }
    },
    {
      "cell_type": "code",
      "execution_count": null,
      "metadata": {
        "id": "g2rtsgeCsRKf"
      },
      "outputs": [],
      "source": [
        "import os"
      ]
    },
    {
      "cell_type": "code",
      "source": [
        "from google.colab import drive\n",
        "drive.mount('/content/drive')"
      ],
      "metadata": {
        "id": "WPIayQ43G7G5",
        "colab": {
          "base_uri": "https://localhost:8080/"
        },
        "outputId": "85699c88-4d21-41bb-e08a-158ed4781371"
      },
      "execution_count": null,
      "outputs": [
        {
          "output_type": "stream",
          "name": "stdout",
          "text": [
            "Mounted at /content/drive\n"
          ]
        }
      ]
    },
    {
      "cell_type": "code",
      "source": [
        "# dataset Info\n",
        "base_dir = '/content/drive/MyDrive/capstone/dataset/lettuce'\n",
        "class_names = ['FN', '-N', '-P', '-K']"
      ],
      "metadata": {
        "id": "4tjdMI2ishmH"
      },
      "execution_count": null,
      "outputs": []
    },
    {
      "cell_type": "markdown",
      "source": [
        "## Split"
      ],
      "metadata": {
        "id": "yjsurQzgHF3r"
      }
    },
    {
      "cell_type": "code",
      "source": [
        "import os\n",
        "import shutil\n",
        "from sklearn.model_selection import train_test_split"
      ],
      "metadata": {
        "id": "YU5tZSK7IO7H"
      },
      "execution_count": null,
      "outputs": []
    },
    {
      "cell_type": "code",
      "source": [
        "train_dir = base_dir + \"/train\"\n",
        "validation_dir = base_dir + \"/validation\"\n",
        "test_dir = base_dir + \"/test\""
      ],
      "metadata": {
        "id": "9xj03vwEIUCR"
      },
      "execution_count": null,
      "outputs": []
    },
    {
      "cell_type": "code",
      "source": [
        "# create the directories if they don't exist\n",
        "os.makedirs(train_dir, exist_ok=True)\n",
        "os.makedirs(validation_dir, exist_ok=True)\n",
        "os.makedirs(test_dir, exist_ok=True)"
      ],
      "metadata": {
        "id": "52lA6cbsdOUl"
      },
      "execution_count": null,
      "outputs": []
    },
    {
      "cell_type": "code",
      "source": [
        "# define the split ratios\n",
        "train_ratio = 0.6  # 60% of data for training\n",
        "validation_ratio = 0.25  # 25% of data for validation\n",
        "test_ratio = 0.15  # 15% of data for testing"
      ],
      "metadata": {
        "id": "CSptWUJrVT-9"
      },
      "execution_count": null,
      "outputs": []
    },
    {
      "cell_type": "code",
      "source": [
        "for class_name in class_names:\n",
        "    folder_path = os.path.join(base_dir, class_name)\n",
        "\n",
        "    if os.path.isdir(folder_path):\n",
        "        images = os.listdir(folder_path)\n",
        "\n",
        "        # split images into train 0.6 and remaining\n",
        "        train_images, remaining_images = train_test_split(images, test_size=0.4, random_state=42)\n",
        "\n",
        "        # split remaining images into validation 0.25 and test 0.15\n",
        "        validation_images, test_images = train_test_split(remaining_images, test_size=0.375, random_state=42)\n",
        "            \n",
        "        # copy TRAIN images to the TRAIN directory\n",
        "        for image in train_images:\n",
        "            src = os.path.join(folder_path, image)\n",
        "            dst = os.path.join(train_dir, class_name, image)\n",
        "            os.makedirs(os.path.dirname(dst), exist_ok=True)\n",
        "            shutil.copy2(src, dst)\n",
        "            \n",
        "        # copy VALIDATION images to the VALIDATION directory\n",
        "        for image in validation_images:\n",
        "            src = os.path.join(folder_path, image)\n",
        "            dst = os.path.join(validation_dir, class_name, image)\n",
        "            os.makedirs(os.path.dirname(dst), exist_ok=True)\n",
        "            shutil.copy2(src, dst)\n",
        "            \n",
        "        # copy TEST images to the TEST directory\n",
        "        for image in test_images:\n",
        "            src = os.path.join(folder_path, image)\n",
        "            dst = os.path.join(test_dir, class_name, image)\n",
        "            os.makedirs(os.path.dirname(dst), exist_ok=True)\n",
        "            shutil.copy2(src, dst)"
      ],
      "metadata": {
        "id": "9RGk7KqQIXmH"
      },
      "execution_count": null,
      "outputs": []
    },
    {
      "cell_type": "markdown",
      "source": [
        "## Augmentation"
      ],
      "metadata": {
        "id": "7PB9l1wTHRhL"
      }
    },
    {
      "cell_type": "code",
      "source": [
        "import tensorflow as tf\n",
        "from tensorflow.keras.preprocessing.image import ImageDataGenerator"
      ],
      "metadata": {
        "id": "Q1oH_V5evqds"
      },
      "execution_count": null,
      "outputs": []
    },
    {
      "cell_type": "code",
      "source": [
        "img_width, img_height = 224, 224 # Image size to be used"
      ],
      "metadata": {
        "id": "7NQ421gbIc9O"
      },
      "execution_count": null,
      "outputs": []
    },
    {
      "cell_type": "code",
      "source": [
        "train_datagen = ImageDataGenerator(\n",
        "    rescale = 1/255.0,\n",
        "    rotation_range = 40,\n",
        "    shear_range = 0.2,\n",
        "    zoom_range = 0.2,\n",
        "    horizontal_flip = True,\n",
        "    fill_mode = 'nearest',\n",
        "    brightness_range = [0.8, 1.2]\n",
        ")"
      ],
      "metadata": {
        "id": "yyh3tN_Ju6ck"
      },
      "execution_count": null,
      "outputs": []
    },
    {
      "cell_type": "code",
      "source": [
        "train_generator = train_datagen.flow_from_directory(\n",
        "    train_dir,\n",
        "    target_size = (img_width, img_height),\n",
        "    batch_size = 32,\n",
        "    class_mode ='categorical'\n",
        ")"
      ],
      "metadata": {
        "colab": {
          "base_uri": "https://localhost:8080/"
        },
        "id": "OsXHiacTu8gz",
        "outputId": "36db517b-3126-4111-98b0-5866ec3916d1"
      },
      "execution_count": null,
      "outputs": [
        {
          "output_type": "stream",
          "name": "stdout",
          "text": [
            "Found 144 images belonging to 4 classes.\n"
          ]
        }
      ]
    },
    {
      "cell_type": "code",
      "source": [
        "validation_datagen = ImageDataGenerator(rescale=1.0/255)"
      ],
      "metadata": {
        "id": "tyBWrZh5vCq6"
      },
      "execution_count": null,
      "outputs": []
    },
    {
      "cell_type": "code",
      "source": [
        "validation_generator = validation_datagen.flow_from_directory(\n",
        "    validation_dir,\n",
        "    target_size=(img_width, img_height),\n",
        "    batch_size=32,\n",
        "    class_mode='categorical'\n",
        ")"
      ],
      "metadata": {
        "colab": {
          "base_uri": "https://localhost:8080/"
        },
        "id": "C_2CgxX9nEc7",
        "outputId": "bccb20ae-1ea9-439c-c7d3-194cec4d171a"
      },
      "execution_count": null,
      "outputs": [
        {
          "output_type": "stream",
          "name": "stdout",
          "text": [
            "Found 60 images belonging to 4 classes.\n"
          ]
        }
      ]
    },
    {
      "cell_type": "code",
      "source": [
        "test_datagen = ImageDataGenerator(rescale=1.0/255)"
      ],
      "metadata": {
        "id": "WNABqtxMnElO"
      },
      "execution_count": null,
      "outputs": []
    },
    {
      "cell_type": "code",
      "source": [
        "test_generator = test_datagen.flow_from_directory(\n",
        "    test_dir,\n",
        "    target_size=(img_width, img_height),\n",
        "    batch_size=32,\n",
        "    class_mode='categorical'\n",
        ")"
      ],
      "metadata": {
        "colab": {
          "base_uri": "https://localhost:8080/"
        },
        "id": "8Gh-jbyLvFXD",
        "outputId": "34f00a81-ab46-44da-ca0b-68b5931c4685"
      },
      "execution_count": null,
      "outputs": [
        {
          "output_type": "stream",
          "name": "stdout",
          "text": [
            "Found 40 images belonging to 4 classes.\n"
          ]
        }
      ]
    },
    {
      "cell_type": "markdown",
      "source": [
        "# Feature Extraction"
      ],
      "metadata": {
        "id": "6T5BxszuJQIT"
      }
    },
    {
      "cell_type": "code",
      "source": [
        "import cv2\n",
        "import random\n",
        "import numpy as np\n",
        "\n",
        "from collections import Counter\n",
        "from sklearn.cluster import KMeans\n",
        "from sklearn.feature_extraction import image\n",
        "\n",
        "%matplotlib inline"
      ],
      "metadata": {
        "id": "5DtM7aBvJVXy"
      },
      "execution_count": null,
      "outputs": []
    },
    {
      "cell_type": "markdown",
      "source": [
        "## RGB Extraction"
      ],
      "metadata": {
        "id": "56FNxNlWbHx5"
      }
    },
    {
      "cell_type": "code",
      "source": [
        "# convert the hex values\n",
        "def RGB2HEX(color):\n",
        "    return \"#{:02x}{:02x}{:02x}\".format(int(color[0]), int(color[1]), int(color[2]))"
      ],
      "metadata": {
        "id": "7qsIpC5kJp4c"
      },
      "execution_count": null,
      "outputs": []
    },
    {
      "cell_type": "code",
      "source": [
        "# accept both file paths and numpy array\n",
        "def get_image(image):\n",
        "    if isinstance(image, str):  # when image is a file path\n",
        "        image = cv2.imread(image)\n",
        "    image = cv2.cvtColor(image, cv2.COLOR_BGR2RGB)\n",
        "    return image"
      ],
      "metadata": {
        "id": "sqULpHIMRquE"
      },
      "execution_count": null,
      "outputs": []
    },
    {
      "cell_type": "code",
      "source": [
        "def get_colors(image, number_of_colors):\n",
        "\n",
        "    modified_image = cv2.resize(image, (img_width, img_height), interpolation=cv2.INTER_AREA)\n",
        "    modified_image = modified_image.reshape(modified_image.shape[0] * modified_image.shape[1], 3)\n",
        "\n",
        "    # warning: default value for n_init will change from 10 to 'auto' in scikit-learn version 1.4\n",
        "    clf = KMeans(n_clusters=number_of_colors, n_init=10)\n",
        "    labels = clf.fit_predict(modified_image)\n",
        "\n",
        "    counts = Counter(labels)\n",
        "    center_colors = clf.cluster_centers_\n",
        "\n",
        "    # ordered colors by iterating through the keys\n",
        "    ordered_colors = [center_colors[i] / 255 for i in counts.keys()]\n",
        "    rgb_colors = [ordered_colors[i] * 255 for i in counts.keys()]\n",
        "\n",
        "    return rgb_colors # a list of features"
      ],
      "metadata": {
        "id": "fmwSsOG3gU_T"
      },
      "execution_count": null,
      "outputs": []
    },
    {
      "cell_type": "code",
      "source": [
        "# check the RGB arrays returns\n",
        "for i in range(3):\n",
        "    # select a random folder from TRAIN dataset\n",
        "    folder = random.choice(os.listdir(train_dir))\n",
        "    folder_path = os.path.join(train_dir, folder)\n",
        "    image_files = os.listdir(folder_path)\n",
        "\n",
        "     # select a random image from the folder\n",
        "    image_file = random.choice(image_files)\n",
        "    image_path = os.path.join(folder_path, image_file)\n",
        "\n",
        "    # return the RGB arrays\n",
        "    print(image_path)\n",
        "    print(get_colors(get_image(image_path), 3))"
      ],
      "metadata": {
        "colab": {
          "base_uri": "https://localhost:8080/"
        },
        "id": "xKpv2nRcoWxD",
        "outputId": "6d50aad9-ceaf-4aec-f943-5c84650cb619"
      },
      "execution_count": null,
      "outputs": [
        {
          "output_type": "stream",
          "name": "stdout",
          "text": [
            "/content/drive/MyDrive/capstone/dataset/lettuce/train/-N/-N (34).png\n",
            "[array([141.32837015, 171.41149326,  61.9400726 ]), array([249.11911142, 249.57284908, 246.88984485]), array([28.23648888, 33.60315048, 22.709416  ])]\n",
            "/content/drive/MyDrive/capstone/dataset/lettuce/train/-P/-P (3).png\n",
            "[array([202.47434305, 222.99428742, 229.4045502 ]), array([81.09101768, 69.29252269, 26.71201624]), array([125.81129238, 116.46379971,  96.6955868 ])]\n",
            "/content/drive/MyDrive/capstone/dataset/lettuce/train/-P/-P (49).png\n",
            "[array([36.13802586, 54.49394418, 61.03101047]), array([188.06835577, 234.61710214, 141.30673001]), array([139.83649222, 181.08755304,  98.12758133])]\n"
          ]
        }
      ]
    },
    {
      "cell_type": "markdown",
      "source": [
        "## Extract from Directories"
      ],
      "metadata": {
        "id": "6KZjmhePPOkw"
      }
    },
    {
      "cell_type": "code",
      "source": [
        "# lists and array to store the features and labels\n",
        "train_features = []\n",
        "train_labels = np.empty((0,), dtype=str)\n",
        "\n",
        "validation_features = []\n",
        "validation_labels = np.empty((0,), dtype=str)\n",
        "\n",
        "test_features = []\n",
        "test_labels = np.empty((0,), dtype=str)"
      ],
      "metadata": {
        "id": "f8tZvIPAJloI"
      },
      "execution_count": null,
      "outputs": []
    },
    {
      "cell_type": "code",
      "source": [
        "# iterate over the TRAIN directory\n",
        "for folder_name in os.listdir(train_dir):\n",
        "    folder_path = os.path.join(train_dir, folder_name)\n",
        "    \n",
        "    # extract if the item is a directory\n",
        "    if os.path.isdir(folder_path):\n",
        "        # iterate over the files in the current dir\n",
        "        for file_name in os.listdir(folder_path):\n",
        "            file_path = os.path.join(folder_path, file_name)\n",
        "            \n",
        "            # check if the item is a file\n",
        "            if os.path.isfile(file_path):\n",
        "                # extract features from the image\n",
        "                image = get_image(file_path)\n",
        "                preprocessed_image = train_datagen.random_transform(image)\n",
        "                features = get_colors(preprocessed_image, 3)\n",
        "\n",
        "                # append the features to the train_features list\n",
        "                train_features.append(features)\n",
        "                train_labels = np.concatenate((train_labels, np.array([folder_name])), axis=0)"
      ],
      "metadata": {
        "id": "EAqoirH-RSMa"
      },
      "execution_count": null,
      "outputs": []
    },
    {
      "cell_type": "code",
      "source": [
        "# convert to a numpy array\n",
        "train_features = np.array(train_features)"
      ],
      "metadata": {
        "id": "kN-OicdVhAWL"
      },
      "execution_count": null,
      "outputs": []
    },
    {
      "cell_type": "code",
      "source": [
        "# print the shape of the TRAIN arrays\n",
        "print(\"Train Features Shape:\", train_features.shape)\n",
        "print(\"Train Labels Shape:\", train_labels.shape)"
      ],
      "metadata": {
        "colab": {
          "base_uri": "https://localhost:8080/"
        },
        "id": "7W5NKyMxLmKN",
        "outputId": "7036767a-4994-4bbc-dc0d-d4d757eb3c5d"
      },
      "execution_count": null,
      "outputs": [
        {
          "output_type": "stream",
          "name": "stdout",
          "text": [
            "Train Features Shape: (144, 3, 3)\n",
            "Train Labels Shape: (144,)\n"
          ]
        }
      ]
    },
    {
      "cell_type": "code",
      "source": [
        "# iterate over the VALIDATION directory\n",
        "for folder_name in os.listdir(validation_dir):\n",
        "    folder_path = os.path.join(validation_dir, folder_name)\n",
        "    \n",
        "    # check if the item is a directory\n",
        "    if os.path.isdir(folder_path):\n",
        "        # iterate over the files in the current dir\n",
        "        for file_name in os.listdir(folder_path):\n",
        "            file_path = os.path.join(folder_path, file_name)\n",
        "            \n",
        "            # check if the item is a file\n",
        "            if os.path.isfile(file_path):\n",
        "                # extract features from the image\n",
        "                image = get_image(file_path)\n",
        "                preprocessed_image = validation_datagen.random_transform(image)\n",
        "                features = get_colors(preprocessed_image, 3)\n",
        "\n",
        "                # append the features to the validation_features list\n",
        "                validation_features.append(features)\n",
        "                validation_labels = np.concatenate((validation_labels, np.array([folder_name])), axis=0)"
      ],
      "metadata": {
        "id": "Xf3Cp8jch0Kg"
      },
      "execution_count": null,
      "outputs": []
    },
    {
      "cell_type": "code",
      "source": [
        "# convert to a numpy array\n",
        "validation_features = np.array(validation_features)"
      ],
      "metadata": {
        "id": "ThdaG2lqigpJ"
      },
      "execution_count": null,
      "outputs": []
    },
    {
      "cell_type": "code",
      "source": [
        "# print the shape of the VALIDATION arrays\n",
        "print(\"Validation Features Shape:\", validation_features.shape)\n",
        "print(\"Validation Labels Shape:\", validation_labels.shape)"
      ],
      "metadata": {
        "colab": {
          "base_uri": "https://localhost:8080/"
        },
        "id": "mkf0TRJiOTK1",
        "outputId": "a08b847d-bd7f-4d30-ac41-526709d95b76"
      },
      "execution_count": null,
      "outputs": [
        {
          "output_type": "stream",
          "name": "stdout",
          "text": [
            "Validation Features Shape: (60, 3, 3)\n",
            "Validation Labels Shape: (60,)\n"
          ]
        }
      ]
    },
    {
      "cell_type": "code",
      "source": [
        "# iterate over the TEST directory\n",
        "for folder_name in os.listdir(test_dir):\n",
        "    folder_path = os.path.join(test_dir, folder_name)\n",
        "    \n",
        "    # check if the item is a directory\n",
        "    if os.path.isdir(folder_path):\n",
        "        # iterate over the files in the current dir\n",
        "        for file_name in os.listdir(folder_path):\n",
        "            file_path = os.path.join(folder_path, file_name)\n",
        "            \n",
        "            # check if the item is a file\n",
        "            if os.path.isfile(file_path):\n",
        "                # extract features from the image\n",
        "                image = get_image(file_path)\n",
        "                preprocessed_image = test_datagen.random_transform(image)\n",
        "                features = get_colors(preprocessed_image, 3)\n",
        "\n",
        "                # append the features to the test_features list\n",
        "                test_features.append(features)\n",
        "                test_labels = np.concatenate((test_labels, np.array([folder_name])), axis=0)"
      ],
      "metadata": {
        "id": "lTWRZjibtQMe"
      },
      "execution_count": null,
      "outputs": []
    },
    {
      "cell_type": "code",
      "source": [
        "# convert to a numpy array\n",
        "test_features = np.array(test_features)"
      ],
      "metadata": {
        "id": "o_HDY45qtiM8"
      },
      "execution_count": null,
      "outputs": []
    },
    {
      "cell_type": "code",
      "source": [
        "# print the shape of the TEST arrays\n",
        "print(\"Test Features Shape:\", test_features.shape)\n",
        "print(\"Test Labels Shape:\", test_labels.shape)"
      ],
      "metadata": {
        "colab": {
          "base_uri": "https://localhost:8080/"
        },
        "id": "MrI0ocAetrPw",
        "outputId": "ac050620-9969-43d4-f77b-6f5cfe6ff085"
      },
      "execution_count": null,
      "outputs": [
        {
          "output_type": "stream",
          "name": "stdout",
          "text": [
            "Test Features Shape: (40, 3, 3)\n",
            "Test Labels Shape: (40,)\n"
          ]
        }
      ]
    },
    {
      "cell_type": "markdown",
      "source": [
        "# Model"
      ],
      "metadata": {
        "id": "hUkexJqEJfbv"
      }
    },
    {
      "cell_type": "markdown",
      "source": [
        "## RGB Model"
      ],
      "metadata": {
        "id": "b7HnV1oQyfW4"
      }
    },
    {
      "cell_type": "code",
      "source": [
        "import tensorflow as tf\n",
        "from tensorflow.keras import layers"
      ],
      "metadata": {
        "id": "6NexUsudXu-f"
      },
      "execution_count": null,
      "outputs": []
    },
    {
      "cell_type": "code",
      "source": [
        "model = tf.keras.Sequential([\n",
        "    layers.Conv1D(32, 1, activation='relu', input_shape=(3, 3)),\n",
        "    layers.Conv1D(64, 1, activation='relu'),\n",
        "    layers.Conv1D(128, 1, activation='relu'),\n",
        "    \n",
        "    layers.LSTM(32, return_sequences=True),\n",
        "    layers.LSTM(64),\n",
        "    \n",
        "    layers.Flatten(),\n",
        "    \n",
        "    layers.Dense(64, activation='relu'),\n",
        "    layers.Dense(64, activation='relu'),\n",
        "    layers.Dense(128, activation='relu'),\n",
        "    \n",
        "    layers.Dropout(0.5),\n",
        "    \n",
        "    layers.Dense(4, activation='softmax')\n",
        "])"
      ],
      "metadata": {
        "id": "diSwaO1s8P51"
      },
      "execution_count": null,
      "outputs": []
    },
    {
      "cell_type": "code",
      "source": [
        "optimizer = tf.keras.optimizers.RMSprop()\n",
        "model.compile(optimizer=optimizer,\n",
        "              loss='categorical_crossentropy',\n",
        "              metrics=['accuracy'])"
      ],
      "metadata": {
        "id": "s1T8hwlMvPci"
      },
      "execution_count": null,
      "outputs": []
    },
    {
      "cell_type": "code",
      "source": [
        "model.summary()"
      ],
      "metadata": {
        "colab": {
          "base_uri": "https://localhost:8080/"
        },
        "id": "7ol8zmzfDipv",
        "outputId": "0821c44e-9375-4288-e625-95e2215447fd"
      },
      "execution_count": null,
      "outputs": [
        {
          "output_type": "stream",
          "name": "stdout",
          "text": [
            "Model: \"sequential_11\"\n",
            "_________________________________________________________________\n",
            " Layer (type)                Output Shape              Param #   \n",
            "=================================================================\n",
            " conv1d_33 (Conv1D)          (None, 3, 32)             128       \n",
            "                                                                 \n",
            " conv1d_34 (Conv1D)          (None, 3, 64)             2112      \n",
            "                                                                 \n",
            " conv1d_35 (Conv1D)          (None, 3, 128)            8320      \n",
            "                                                                 \n",
            " lstm_22 (LSTM)              (None, 3, 32)             20608     \n",
            "                                                                 \n",
            " lstm_23 (LSTM)              (None, 64)                24832     \n",
            "                                                                 \n",
            " flatten_11 (Flatten)        (None, 64)                0         \n",
            "                                                                 \n",
            " dense_44 (Dense)            (None, 64)                4160      \n",
            "                                                                 \n",
            " dense_45 (Dense)            (None, 64)                4160      \n",
            "                                                                 \n",
            " dense_46 (Dense)            (None, 128)               8320      \n",
            "                                                                 \n",
            " dropout_11 (Dropout)        (None, 128)               0         \n",
            "                                                                 \n",
            " dense_47 (Dense)            (None, 4)                 516       \n",
            "                                                                 \n",
            "=================================================================\n",
            "Total params: 73,156\n",
            "Trainable params: 73,156\n",
            "Non-trainable params: 0\n",
            "_________________________________________________________________\n"
          ]
        }
      ]
    },
    {
      "cell_type": "markdown",
      "source": [
        "## Model Training"
      ],
      "metadata": {
        "id": "MPgujlqaDoz4"
      }
    },
    {
      "cell_type": "code",
      "source": [
        "import numpy as np\n",
        "import tensorflow as tf\n",
        "\n",
        "from keras.utils import to_categorical\n",
        "from tensorflow.keras.callbacks import EarlyStopping"
      ],
      "metadata": {
        "id": "pGrqSUBj8lBV"
      },
      "execution_count": null,
      "outputs": []
    },
    {
      "cell_type": "code",
      "source": [
        "label_mapping = {\"FN\": 0, \"-N\": 1, \"-P\": 2, \"-K\": 3}"
      ],
      "metadata": {
        "id": "aEHHOuoxhlND"
      },
      "execution_count": null,
      "outputs": []
    },
    {
      "cell_type": "code",
      "source": [
        "# map string labels to integer values\n",
        "train_labels_mapped = np.array([label_mapping[label] for label in train_labels])\n",
        "validation_labels_mapped = np.array([label_mapping[label] for label in validation_labels])\n",
        "test_labels_mapped = np.array([label_mapping[label] for label in test_labels])\n",
        "\n",
        "# one-hot encode the mapped labels\n",
        "train_labels_one_hot = to_categorical(train_labels_mapped)\n",
        "validation_labels_one_hot = to_categorical(validation_labels_mapped)\n",
        "test_labels_one_hot = to_categorical(test_labels_mapped)"
      ],
      "metadata": {
        "id": "RpqKecOtp_Bn"
      },
      "execution_count": null,
      "outputs": []
    },
    {
      "cell_type": "code",
      "source": [
        "# define the EarlyStopping callback\n",
        "early_stopping = EarlyStopping(monitor='val_loss', patience=10, restore_best_weights=True)"
      ],
      "metadata": {
        "id": "ABd4lWCAuWUP"
      },
      "execution_count": null,
      "outputs": []
    },
    {
      "cell_type": "code",
      "source": [
        "history = model.fit(\n",
        "    train_features,\n",
        "    train_labels_one_hot,\n",
        "    epochs=400,\n",
        "    batch_size=64,\n",
        "    validation_data=(validation_features, validation_labels_one_hot),\n",
        "    callbacks=[early_stopping]\n",
        ")"
      ],
      "metadata": {
        "colab": {
          "base_uri": "https://localhost:8080/"
        },
        "id": "3vFHurN9O1yh",
        "outputId": "8e95e4ca-edae-4b8a-f07b-ee7dc45cfc93"
      },
      "execution_count": null,
      "outputs": [
        {
          "output_type": "stream",
          "name": "stdout",
          "text": [
            "Epoch 1/400\n",
            "3/3 [==============================] - 7s 577ms/step - loss: 1.3823 - accuracy: 0.2708 - val_loss: 1.3832 - val_accuracy: 0.2667\n",
            "Epoch 2/400\n",
            "3/3 [==============================] - 0s 27ms/step - loss: 1.3813 - accuracy: 0.2986 - val_loss: 1.3756 - val_accuracy: 0.2833\n",
            "Epoch 3/400\n",
            "3/3 [==============================] - 0s 28ms/step - loss: 1.3702 - accuracy: 0.2569 - val_loss: 1.3667 - val_accuracy: 0.4333\n",
            "Epoch 4/400\n",
            "3/3 [==============================] - 0s 36ms/step - loss: 1.3647 - accuracy: 0.3611 - val_loss: 1.3737 - val_accuracy: 0.2500\n",
            "Epoch 5/400\n",
            "3/3 [==============================] - 0s 34ms/step - loss: 1.3745 - accuracy: 0.3056 - val_loss: 1.3543 - val_accuracy: 0.4167\n",
            "Epoch 6/400\n",
            "3/3 [==============================] - 0s 29ms/step - loss: 1.3435 - accuracy: 0.3194 - val_loss: 1.3238 - val_accuracy: 0.6000\n",
            "Epoch 7/400\n",
            "3/3 [==============================] - 0s 27ms/step - loss: 1.2982 - accuracy: 0.4375 - val_loss: 1.3475 - val_accuracy: 0.2833\n",
            "Epoch 8/400\n",
            "3/3 [==============================] - 0s 30ms/step - loss: 1.3272 - accuracy: 0.3056 - val_loss: 1.3333 - val_accuracy: 0.3333\n",
            "Epoch 9/400\n",
            "3/3 [==============================] - 0s 28ms/step - loss: 1.2840 - accuracy: 0.3958 - val_loss: 1.2866 - val_accuracy: 0.4333\n",
            "Epoch 10/400\n",
            "3/3 [==============================] - 0s 27ms/step - loss: 1.2304 - accuracy: 0.4375 - val_loss: 1.2720 - val_accuracy: 0.3167\n",
            "Epoch 11/400\n",
            "3/3 [==============================] - 0s 27ms/step - loss: 1.2822 - accuracy: 0.3333 - val_loss: 1.2090 - val_accuracy: 0.4667\n",
            "Epoch 12/400\n",
            "3/3 [==============================] - 0s 31ms/step - loss: 1.1686 - accuracy: 0.4375 - val_loss: 1.1592 - val_accuracy: 0.4833\n",
            "Epoch 13/400\n",
            "3/3 [==============================] - 0s 30ms/step - loss: 1.1480 - accuracy: 0.4375 - val_loss: 1.1752 - val_accuracy: 0.4500\n",
            "Epoch 14/400\n",
            "3/3 [==============================] - 0s 27ms/step - loss: 1.0888 - accuracy: 0.5069 - val_loss: 1.1706 - val_accuracy: 0.4833\n",
            "Epoch 15/400\n",
            "3/3 [==============================] - 0s 36ms/step - loss: 1.0544 - accuracy: 0.5556 - val_loss: 1.0835 - val_accuracy: 0.5333\n",
            "Epoch 16/400\n",
            "3/3 [==============================] - 0s 28ms/step - loss: 1.0377 - accuracy: 0.5625 - val_loss: 1.4153 - val_accuracy: 0.3667\n",
            "Epoch 17/400\n",
            "3/3 [==============================] - 0s 38ms/step - loss: 1.3875 - accuracy: 0.3403 - val_loss: 1.1226 - val_accuracy: 0.5000\n",
            "Epoch 18/400\n",
            "3/3 [==============================] - 0s 38ms/step - loss: 1.0559 - accuracy: 0.5347 - val_loss: 1.1352 - val_accuracy: 0.5000\n",
            "Epoch 19/400\n",
            "3/3 [==============================] - 0s 31ms/step - loss: 1.0191 - accuracy: 0.5208 - val_loss: 1.0895 - val_accuracy: 0.5167\n",
            "Epoch 20/400\n",
            "3/3 [==============================] - 0s 45ms/step - loss: 1.0012 - accuracy: 0.4722 - val_loss: 1.0935 - val_accuracy: 0.5500\n",
            "Epoch 21/400\n",
            "3/3 [==============================] - 0s 46ms/step - loss: 0.9702 - accuracy: 0.5486 - val_loss: 1.1996 - val_accuracy: 0.4833\n",
            "Epoch 22/400\n",
            "3/3 [==============================] - 0s 54ms/step - loss: 1.1003 - accuracy: 0.5069 - val_loss: 1.0609 - val_accuracy: 0.5333\n",
            "Epoch 23/400\n",
            "3/3 [==============================] - 0s 54ms/step - loss: 0.9579 - accuracy: 0.5764 - val_loss: 1.0354 - val_accuracy: 0.6167\n",
            "Epoch 24/400\n",
            "3/3 [==============================] - 0s 47ms/step - loss: 0.9248 - accuracy: 0.6111 - val_loss: 1.1818 - val_accuracy: 0.4833\n",
            "Epoch 25/400\n",
            "3/3 [==============================] - 0s 54ms/step - loss: 1.0373 - accuracy: 0.5417 - val_loss: 1.0826 - val_accuracy: 0.5500\n",
            "Epoch 26/400\n",
            "3/3 [==============================] - 0s 47ms/step - loss: 1.0230 - accuracy: 0.5139 - val_loss: 1.0664 - val_accuracy: 0.4667\n",
            "Epoch 27/400\n",
            "3/3 [==============================] - 0s 46ms/step - loss: 0.8969 - accuracy: 0.5833 - val_loss: 1.2708 - val_accuracy: 0.4500\n",
            "Epoch 28/400\n",
            "3/3 [==============================] - 0s 45ms/step - loss: 1.0704 - accuracy: 0.4792 - val_loss: 1.0101 - val_accuracy: 0.5833\n",
            "Epoch 29/400\n",
            "3/3 [==============================] - 0s 46ms/step - loss: 0.8635 - accuracy: 0.6181 - val_loss: 1.1284 - val_accuracy: 0.4667\n",
            "Epoch 30/400\n",
            "3/3 [==============================] - 0s 39ms/step - loss: 0.9574 - accuracy: 0.4861 - val_loss: 1.1002 - val_accuracy: 0.5167\n",
            "Epoch 31/400\n",
            "3/3 [==============================] - 0s 43ms/step - loss: 1.0135 - accuracy: 0.4792 - val_loss: 1.0148 - val_accuracy: 0.5833\n",
            "Epoch 32/400\n",
            "3/3 [==============================] - 0s 39ms/step - loss: 0.8678 - accuracy: 0.5833 - val_loss: 1.0128 - val_accuracy: 0.5833\n",
            "Epoch 33/400\n",
            "3/3 [==============================] - 0s 37ms/step - loss: 0.9433 - accuracy: 0.5625 - val_loss: 1.0198 - val_accuracy: 0.5500\n",
            "Epoch 34/400\n",
            "3/3 [==============================] - 0s 35ms/step - loss: 0.7908 - accuracy: 0.6875 - val_loss: 1.0165 - val_accuracy: 0.5833\n",
            "Epoch 35/400\n",
            "3/3 [==============================] - 0s 37ms/step - loss: 1.0202 - accuracy: 0.5139 - val_loss: 1.2818 - val_accuracy: 0.4333\n",
            "Epoch 36/400\n",
            "3/3 [==============================] - 0s 50ms/step - loss: 0.9921 - accuracy: 0.5417 - val_loss: 0.9705 - val_accuracy: 0.5333\n",
            "Epoch 37/400\n",
            "3/3 [==============================] - 0s 39ms/step - loss: 0.7987 - accuracy: 0.6250 - val_loss: 1.0154 - val_accuracy: 0.6000\n",
            "Epoch 38/400\n",
            "3/3 [==============================] - 0s 39ms/step - loss: 0.8618 - accuracy: 0.5486 - val_loss: 1.0026 - val_accuracy: 0.5000\n",
            "Epoch 39/400\n",
            "3/3 [==============================] - 0s 36ms/step - loss: 0.9069 - accuracy: 0.5972 - val_loss: 1.0174 - val_accuracy: 0.6167\n",
            "Epoch 40/400\n",
            "3/3 [==============================] - 0s 37ms/step - loss: 0.7880 - accuracy: 0.6458 - val_loss: 0.9150 - val_accuracy: 0.6667\n",
            "Epoch 41/400\n",
            "3/3 [==============================] - 0s 36ms/step - loss: 0.7341 - accuracy: 0.6667 - val_loss: 1.0225 - val_accuracy: 0.5500\n",
            "Epoch 42/400\n",
            "3/3 [==============================] - 0s 36ms/step - loss: 0.9330 - accuracy: 0.5833 - val_loss: 1.5689 - val_accuracy: 0.3667\n",
            "Epoch 43/400\n",
            "3/3 [==============================] - 0s 38ms/step - loss: 1.0117 - accuracy: 0.5486 - val_loss: 0.9236 - val_accuracy: 0.6667\n",
            "Epoch 44/400\n",
            "3/3 [==============================] - 0s 39ms/step - loss: 0.7613 - accuracy: 0.7153 - val_loss: 0.9649 - val_accuracy: 0.5500\n",
            "Epoch 45/400\n",
            "3/3 [==============================] - 0s 45ms/step - loss: 0.8727 - accuracy: 0.5556 - val_loss: 0.9407 - val_accuracy: 0.5833\n",
            "Epoch 46/400\n",
            "3/3 [==============================] - 0s 61ms/step - loss: 0.7567 - accuracy: 0.6875 - val_loss: 1.0155 - val_accuracy: 0.6333\n",
            "Epoch 47/400\n",
            "3/3 [==============================] - 0s 47ms/step - loss: 0.7320 - accuracy: 0.7083 - val_loss: 0.8565 - val_accuracy: 0.6333\n",
            "Epoch 48/400\n",
            "3/3 [==============================] - 0s 49ms/step - loss: 0.6724 - accuracy: 0.7222 - val_loss: 1.1431 - val_accuracy: 0.5667\n",
            "Epoch 49/400\n",
            "3/3 [==============================] - 0s 48ms/step - loss: 1.1269 - accuracy: 0.5139 - val_loss: 1.3727 - val_accuracy: 0.4500\n",
            "Epoch 50/400\n",
            "3/3 [==============================] - 0s 52ms/step - loss: 0.8762 - accuracy: 0.6597 - val_loss: 0.9734 - val_accuracy: 0.7000\n",
            "Epoch 51/400\n",
            "3/3 [==============================] - 0s 46ms/step - loss: 0.7148 - accuracy: 0.6944 - val_loss: 0.9172 - val_accuracy: 0.6167\n",
            "Epoch 52/400\n",
            "3/3 [==============================] - 0s 49ms/step - loss: 0.7371 - accuracy: 0.6597 - val_loss: 1.0831 - val_accuracy: 0.5500\n",
            "Epoch 53/400\n",
            "3/3 [==============================] - 0s 47ms/step - loss: 0.8841 - accuracy: 0.5903 - val_loss: 0.9487 - val_accuracy: 0.5333\n",
            "Epoch 54/400\n",
            "3/3 [==============================] - 0s 54ms/step - loss: 0.7357 - accuracy: 0.6944 - val_loss: 0.9276 - val_accuracy: 0.6833\n",
            "Epoch 55/400\n",
            "3/3 [==============================] - 0s 43ms/step - loss: 0.7097 - accuracy: 0.7292 - val_loss: 0.8295 - val_accuracy: 0.7167\n",
            "Epoch 56/400\n",
            "3/3 [==============================] - 0s 49ms/step - loss: 0.6749 - accuracy: 0.7569 - val_loss: 1.0148 - val_accuracy: 0.6167\n",
            "Epoch 57/400\n",
            "3/3 [==============================] - 0s 43ms/step - loss: 0.7872 - accuracy: 0.6667 - val_loss: 0.9104 - val_accuracy: 0.6000\n",
            "Epoch 58/400\n",
            "3/3 [==============================] - 0s 34ms/step - loss: 0.6985 - accuracy: 0.6875 - val_loss: 0.9962 - val_accuracy: 0.6833\n",
            "Epoch 59/400\n",
            "3/3 [==============================] - 0s 26ms/step - loss: 0.6767 - accuracy: 0.7222 - val_loss: 0.8343 - val_accuracy: 0.6667\n",
            "Epoch 60/400\n",
            "3/3 [==============================] - 0s 28ms/step - loss: 0.8746 - accuracy: 0.6181 - val_loss: 1.1408 - val_accuracy: 0.6000\n",
            "Epoch 61/400\n",
            "3/3 [==============================] - 0s 29ms/step - loss: 0.8003 - accuracy: 0.7014 - val_loss: 0.8362 - val_accuracy: 0.7000\n",
            "Epoch 62/400\n",
            "3/3 [==============================] - 0s 28ms/step - loss: 0.6214 - accuracy: 0.7569 - val_loss: 0.8084 - val_accuracy: 0.7333\n",
            "Epoch 63/400\n",
            "3/3 [==============================] - 0s 28ms/step - loss: 0.6106 - accuracy: 0.7431 - val_loss: 0.7879 - val_accuracy: 0.7833\n",
            "Epoch 64/400\n",
            "3/3 [==============================] - 0s 33ms/step - loss: 0.6368 - accuracy: 0.7361 - val_loss: 1.6171 - val_accuracy: 0.3833\n",
            "Epoch 65/400\n",
            "3/3 [==============================] - 0s 30ms/step - loss: 0.8443 - accuracy: 0.6389 - val_loss: 0.8321 - val_accuracy: 0.7167\n",
            "Epoch 66/400\n",
            "3/3 [==============================] - 0s 33ms/step - loss: 0.6299 - accuracy: 0.7847 - val_loss: 1.1477 - val_accuracy: 0.5500\n",
            "Epoch 67/400\n",
            "3/3 [==============================] - 0s 27ms/step - loss: 0.6551 - accuracy: 0.7014 - val_loss: 0.8178 - val_accuracy: 0.7167\n",
            "Epoch 68/400\n",
            "3/3 [==============================] - 0s 25ms/step - loss: 0.5344 - accuracy: 0.7917 - val_loss: 0.8259 - val_accuracy: 0.7167\n",
            "Epoch 69/400\n",
            "3/3 [==============================] - 0s 29ms/step - loss: 0.5608 - accuracy: 0.8125 - val_loss: 0.7887 - val_accuracy: 0.7167\n",
            "Epoch 70/400\n",
            "3/3 [==============================] - 0s 27ms/step - loss: 0.5008 - accuracy: 0.8333 - val_loss: 1.7870 - val_accuracy: 0.3833\n",
            "Epoch 71/400\n",
            "3/3 [==============================] - 0s 33ms/step - loss: 1.1719 - accuracy: 0.5000 - val_loss: 0.8770 - val_accuracy: 0.6667\n",
            "Epoch 72/400\n",
            "3/3 [==============================] - 0s 33ms/step - loss: 0.6034 - accuracy: 0.7986 - val_loss: 0.8115 - val_accuracy: 0.7333\n",
            "Epoch 73/400\n",
            "3/3 [==============================] - 0s 39ms/step - loss: 0.5737 - accuracy: 0.7986 - val_loss: 1.1059 - val_accuracy: 0.5500\n"
          ]
        }
      ]
    },
    {
      "cell_type": "code",
      "source": [
        "loss, accuracy = model.evaluate(test_features, test_labels_one_hot)\n",
        "print(\"Loss:\", loss)\n",
        "print(\"Accuracy:\", accuracy)"
      ],
      "metadata": {
        "id": "ZMOdD2bRvYmg",
        "colab": {
          "base_uri": "https://localhost:8080/"
        },
        "outputId": "52734b1f-88fa-47b2-b542-631da780f3ea"
      },
      "execution_count": null,
      "outputs": [
        {
          "output_type": "stream",
          "name": "stdout",
          "text": [
            "2/2 [==============================] - 0s 8ms/step - loss: 0.6866 - accuracy: 0.7500\n",
            "Loss: 0.6866004467010498\n",
            "Accuracy: 0.75\n"
          ]
        }
      ]
    },
    {
      "cell_type": "markdown",
      "source": [
        "## Evaluation"
      ],
      "metadata": {
        "id": "4ZJJJcXX93FU"
      }
    },
    {
      "cell_type": "code",
      "source": [
        "import numpy as np\n",
        "import matplotlib.pyplot as plt\n",
        "import seaborn as sns\n",
        "\n",
        "from sklearn.metrics import confusion_matrix, classification_report"
      ],
      "metadata": {
        "id": "9BuF1krL96_l"
      },
      "execution_count": null,
      "outputs": []
    },
    {
      "cell_type": "code",
      "source": [
        "# convert predicted probabilities to labels\n",
        "y_pred_probs = model.predict(test_features)\n",
        "y_pred_labels = np.argmax(y_pred_probs, axis=1)"
      ],
      "metadata": {
        "id": "7mEhiC1295N_",
        "colab": {
          "base_uri": "https://localhost:8080/"
        },
        "outputId": "7237448e-392f-4267-9f79-b5f3f6a2b7dd"
      },
      "execution_count": null,
      "outputs": [
        {
          "output_type": "stream",
          "name": "stdout",
          "text": [
            "2/2 [==============================] - 1s 6ms/step\n"
          ]
        }
      ]
    },
    {
      "cell_type": "code",
      "source": [
        "# convert test_labels to numeric labels\n",
        "numeric_labels = np.array([label_mapping[label] for label in test_labels])"
      ],
      "metadata": {
        "id": "pYSml5j7y-7X"
      },
      "execution_count": null,
      "outputs": []
    },
    {
      "cell_type": "code",
      "source": [
        "# calculate confusion matrix\n",
        "confusion = confusion_matrix(numeric_labels, y_pred_labels)"
      ],
      "metadata": {
        "id": "qsb0NfMCzhIP"
      },
      "execution_count": null,
      "outputs": []
    },
    {
      "cell_type": "code",
      "source": [
        "# visualize the confusion matrix\n",
        "plt.figure(figsize=(8, 8))\n",
        "sns.heatmap(confusion, annot=True, fmt='d', cmap='Blues', cbar=False)\n",
        "\n",
        "plt.xlabel('Predicted labels')\n",
        "plt.ylabel('True labels')\n",
        "plt.title('Confusion Matrix')\n",
        "plt.show()"
      ],
      "metadata": {
        "id": "mc9b38ydFC4o",
        "colab": {
          "base_uri": "https://localhost:8080/",
          "height": 718
        },
        "outputId": "29008997-fe8b-47cd-e74f-0703cccdda3e"
      },
      "execution_count": null,
      "outputs": [
        {
          "output_type": "display_data",
          "data": {
            "text/plain": [
              "<Figure size 800x800 with 1 Axes>"
            ],
            "image/png": "[encoded data removed]"
          },
          "metadata": {}
        }
      ]
    },
    {
      "cell_type": "code",
      "source": [
        "# generate classification report\n",
        "report = classification_report(numeric_labels, y_pred_labels)\n",
        "print(report)"
      ],
      "metadata": {
        "id": "WvIORfX7E7EA",
        "colab": {
          "base_uri": "https://localhost:8080/"
        },
        "outputId": "e816723f-216e-48e0-9683-13d0442293fd"
      },
      "execution_count": null,
      "outputs": [
        {
          "output_type": "stream",
          "name": "stdout",
          "text": [
            "              precision    recall  f1-score   support\n",
            "\n",
            "           0       0.73      0.80      0.76        10\n",
            "           1       0.67      0.80      0.73        10\n",
            "           2       0.75      0.90      0.82        10\n",
            "           3       1.00      0.50      0.67        10\n",
            "\n",
            "    accuracy                           0.75        40\n",
            "   macro avg       0.79      0.75      0.74        40\n",
            "weighted avg       0.79      0.75      0.74        40\n",
            "\n"
          ]
        }
      ]
    },
    {
      "cell_type": "code",
      "source": [
        "def plot_training_history(history):\n",
        "    # get the training and validation metrics\n",
        "    accuracy = history.history['accuracy']\n",
        "    val_accuracy = history.history['val_accuracy']\n",
        "    loss = history.history['loss']\n",
        "    val_loss = history.history['val_loss']\n",
        "\n",
        "    # plot accuracy\n",
        "    plt.figure(figsize=(6, 4))\n",
        "    plt.plot(accuracy, 'g', label='Training Accuracy')\n",
        "    plt.plot(val_accuracy, 'b', label='Validation Accuracy')\n",
        "    plt.xlabel('Epochs')\n",
        "    plt.ylabel('Accuracy')\n",
        "    plt.legend()\n",
        "    plt.title('Training and Validation Accuracy')\n",
        "    plt.show()\n",
        "\n",
        "    # plot loss\n",
        "    plt.figure(figsize=(6, 4))\n",
        "    plt.plot(loss, 'g', label='Training Loss')\n",
        "    plt.plot(val_loss, 'b', label='Validation Loss')\n",
        "    plt.xlabel('Epochs')\n",
        "    plt.ylabel('Loss')\n",
        "    plt.legend()\n",
        "    plt.title('Training and Validation Loss')\n",
        "    plt.show()"
      ],
      "metadata": {
        "id": "eHnYd8kn8k2I"
      },
      "execution_count": null,
      "outputs": []
    },
    {
      "cell_type": "code",
      "source": [
        "plot_training_history(history)"
      ],
      "metadata": {
        "colab": {
          "base_uri": "https://localhost:8080/",
          "height": 803
        },
        "id": "RXFOyBLd8rTu",
        "outputId": "1c15877d-ef08-46aa-9abf-3a99b1cb6c63"
      },
      "execution_count": null,
      "outputs": [
        {
          "output_type": "display_data",
          "data": {
            "text/plain": [
              "<Figure size 600x400 with 1 Axes>"
            ],
            "image/png": "[encoded data removed]"
          },
          "metadata": {}
        },
        {
          "output_type": "display_data",
          "data": {
            "text/plain": [
              "<Figure size 600x400 with 1 Axes>"
            ],
            "image/png": "[encoded data removed]"
          },
          "metadata": {}
        }
      ]
    },
    {
      "cell_type": "markdown",
      "source": [
        "# Predict and Recommendation"
      ],
      "metadata": {
        "id": "FZKa-YQdJyPi"
      }
    },
    {
      "cell_type": "markdown",
      "source": [
        "## Make a Prediction"
      ],
      "metadata": {
        "id": "DWsofuDBLT32"
      }
    },
    {
      "cell_type": "code",
      "source": [
        "from PIL import Image"
      ],
      "metadata": {
        "id": "LO2OZIbtKMOI"
      },
      "execution_count": null,
      "outputs": []
    },
    {
      "cell_type": "code",
      "source": [
        "def get_input(image_path):\n",
        "    image = get_image(image_path)\n",
        "    image = get_colors(image, 3)\n",
        "    image = np.expand_dims(image, axis=0)  # an extra dimension for batch size\n",
        "    return image"
      ],
      "metadata": {
        "id": "XtYVZyH0J5yd"
      },
      "execution_count": null,
      "outputs": []
    },
    {
      "cell_type": "code",
      "source": [
        "input_image = get_input('/content/drive/MyDrive/capstone/dataset/lettuce/-P/-P (37).png') # CONTOH GAMBAR YANG AKAN DIPREDIKSI"
      ],
      "metadata": {
        "id": "b1ZH5xH6KOPg"
      },
      "execution_count": null,
      "outputs": []
    },
    {
      "cell_type": "code",
      "source": [
        "# predict the label\n",
        "predictions = model.predict(input_image)\n",
        "predicted_class = np.argmax(predictions)\n",
        "predicted_label = class_names[predicted_class]\n",
        "print(predicted_label)"
      ],
      "metadata": {
        "colab": {
          "base_uri": "https://localhost:8080/"
        },
        "id": "f9oZ6dtNKaLS",
        "outputId": "f0f4719c-b6b3-4db9-f101-81a2c39e082c"
      },
      "execution_count": null,
      "outputs": [
        {
          "output_type": "stream",
          "name": "stdout",
          "text": [
            "1/1 [==============================] - 0s 32ms/step\n",
            "-P\n"
          ]
        }
      ]
    },
    {
      "cell_type": "code",
      "source": [
        "label_mapping = {\"FN\": \"Nutrisi Cukup\", \"-N\": \"Kekurangan Nitrogen\", \"-P\": \"Kekurangan Fosfor\", \"-K\": \"Kekurangan Kalium\"}"
      ],
      "metadata": {
        "id": "gCw3WQYKG9_D"
      },
      "execution_count": null,
      "outputs": []
    },
    {
      "cell_type": "code",
      "source": [
        "output_labels_mapped = label_mapping[predicted_label]\n",
        "print(output_labels_mapped)"
      ],
      "metadata": {
        "id": "ob36Np5JHMmn"
      },
      "execution_count": null,
      "outputs": []
    },
    {
      "cell_type": "markdown",
      "source": [
        "## Give the Recommendation"
      ],
      "metadata": {
        "id": "fA6HA1nvLZHe"
      }
    },
    {
      "cell_type": "code",
      "source": [
        "def generate_custom_paragraph(predicted_label):\n",
        "    # Define a mapping of labels to custom paragraphs\n",
        "    mapping = { # tinggal revisi paragraf\n",
        "        'FN': 'Seladamu terindikasi sehat',\n",
        "        '-N': 'Seladamu terindikasi kekurangan nitrogen',\n",
        "        '-P': 'Seladamu terindikasi kekurangan fosfor',\n",
        "        '-K': 'Seladamu terindikasi kekurangan kalium',\n",
        "    }\n",
        "    \n",
        "    # Get the custom paragraph based on the predicted label\n",
        "    custom_paragraph = mapping.get(predicted_label, 'Tidak ada rekomendasi untuk saat ini')\n",
        "    \n",
        "    return custom_paragraph"
      ],
      "metadata": {
        "id": "TsBOrrfbLQ3F"
      },
      "execution_count": null,
      "outputs": []
    },
    {
      "cell_type": "code",
      "source": [
        "generate_custom_paragraph(predicted_label)"
      ],
      "metadata": {
        "colab": {
          "base_uri": "https://localhost:8080/",
          "height": 36
        },
        "id": "io9g1nI9L-YD",
        "outputId": "69a33e8b-a442-436c-9929-bf0d8dc263f6"
      },
      "execution_count": null,
      "outputs": [
        {
          "output_type": "execute_result",
          "data": {
            "text/plain": [
              "'Seladamu terindikasi kekurangan fosfor'"
            ],
            "application/vnd.google.colaboratory.intrinsic+json": {
              "type": "string"
            }
          },
          "metadata": {},
          "execution_count": 348
        }
      ]
    },
    {
      "cell_type": "markdown",
      "source": [
        "# Keras Model .h5"
      ],
      "metadata": {
        "id": "_xQag5_-ahLD"
      }
    },
    {
      "cell_type": "code",
      "source": [
        "import tensorflow as tf"
      ],
      "metadata": {
        "id": "9gSY1YxybPoa"
      },
      "execution_count": null,
      "outputs": []
    },
    {
      "cell_type": "code",
      "source": [
        "model.save(base_dir + 'lettuce_model.h5')\n",
        "model = tf.keras.models.load_model(base_dir + 'lettuce_model.h5')"
      ],
      "metadata": {
        "id": "khwmbq0PbHqv"
      },
      "execution_count": null,
      "outputs": []
    },
    {
      "cell_type": "code",
      "source": [
        "export_dir = 'saved_model_capstone'\n",
        "tf.saved_model.save(model, export_dir=export_dir)"
      ],
      "metadata": {
        "colab": {
          "base_uri": "https://localhost:8080/"
        },
        "id": "2JmI-upJcBkn",
        "outputId": "df14b2f7-10a9-4cc3-df5e-75c5ee1e7547"
      },
      "execution_count": null,
      "outputs": [
        {
          "output_type": "stream",
          "name": "stderr",
          "text": [
            "WARNING:absl:Found untraced functions such as _jit_compiled_convolution_op, _jit_compiled_convolution_op, _jit_compiled_convolution_op, _update_step_xla, lstm_cell_24_layer_call_fn while saving (showing 5 of 8). These functions will not be directly callable after loading.\n"
          ]
        }
      ]
    },
    {
      "cell_type": "code",
      "source": [
        "mode = \"\" \n",
        "\n",
        "if mode == 'Storage':\n",
        "    optimization = tf.lite.Optimize.OPTIMIZE_FOR_SIZE\n",
        "elif mode == 'Speed':\n",
        "    optimization = tf.lite.Optimize.OPTIMIZE_FOR_LATENCY\n",
        "else:\n",
        "    optimization = tf.lite.Optimize.DEFAULT"
      ],
      "metadata": {
        "id": "Pr0KIAmfbqsq"
      },
      "execution_count": null,
      "outputs": []
    },
    {
      "cell_type": "code",
      "source": [
        "# convert the model to TensorFlow Lite format\n",
        "converter = tf.lite.TFLiteConverter.from_saved_model(export_dir)\n",
        "converter.optimizations = [optimization]\n",
        "converter.target_spec.supported_ops = [tf.lite.OpsSet.TFLITE_BUILTINS, tf.lite.OpsSet.SELECT_TF_OPS]\n",
        "\n",
        "# disable experimental lowering of tensor list ops\n",
        "converter.experimental_lower_tensor_list_ops = False\n",
        "\n",
        "tflite_model = converter.convert()"
      ],
      "metadata": {
        "id": "g3GxqIYHbQt4"
      },
      "execution_count": null,
      "outputs": []
    },
    {
      "cell_type": "code",
      "source": [
        "# save the TensorFlow Lite model\n",
        "with open('lettuce_model.tflite', 'wb') as f:\n",
        "    f.write(tflite_model)"
      ],
      "metadata": {
        "id": "SELGZQmQgm6F"
      },
      "execution_count": null,
      "outputs": []
    }
  ]
}